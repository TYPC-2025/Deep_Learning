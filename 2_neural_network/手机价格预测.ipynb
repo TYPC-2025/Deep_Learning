{
 "cells": [
  {
   "cell_type": "markdown",
   "source": [
    "# 案例-手机价格预测"
   ],
   "metadata": {
    "collapsed": false
   }
  },
  {
   "cell_type": "code",
   "execution_count": 8,
   "outputs": [
    {
     "name": "stdout",
     "output_type": "stream",
     "text": [
      "----------------------------------------------------------------\n",
      "        Layer (type)               Output Shape         Param #\n",
      "================================================================\n",
      "            Linear-1                   [10, 64]           1,344\n",
      "           Dropout-2                   [10, 64]               0\n",
      "            Linear-3                  [10, 128]           8,320\n",
      "           Dropout-4                  [10, 128]               0\n",
      "            Linear-5                    [10, 4]             516\n",
      "================================================================\n",
      "Total params: 10,180\n",
      "Trainable params: 10,180\n",
      "Non-trainable params: 0\n",
      "----------------------------------------------------------------\n",
      "Input size (MB): 0.00\n",
      "Forward/backward pass size (MB): 0.03\n",
      "Params size (MB): 0.04\n",
      "Estimated Total Size (MB): 0.07\n",
      "----------------------------------------------------------------\n",
      "1538.2987212527103\n",
      "7.629540157818544\n",
      "1.3887939811765642\n",
      "1.3872321863760655\n",
      "1.3865144159840324\n",
      "1.3867871347872511\n",
      "1.386032212918428\n",
      "1.385494414000199\n",
      "1.3861752283209745\n",
      "1.3859443846849846\n",
      "1.3859489612255258\n",
      "1.3870822239494038\n",
      "1.3864179732262165\n",
      "1.3870506909774103\n",
      "1.3860650487925517\n",
      "1.3856208801031231\n",
      "1.3864954872646076\n",
      "1.3855941715030775\n",
      "1.3862096602055265\n",
      "1.3861712934016468\n",
      "准确率： 0.22\n"
     ]
    }
   ],
   "source": [
    "from torch.utils.data import TensorDataset, DataLoader\n",
    "import pandas as pd\n",
    "from sklearn.model_selection import train_test_split\n",
    "import torch\n",
    "import torch.nn as nn\n",
    "from torchsummary import summary\n",
    "\n",
    "# 1.获取数据\n",
    "# 1.1读取数据\n",
    "data = pd.read_csv(r\"F:\\Maker\\Learn_Systematically\\6_Deep_learning\\2_neural_network\\手机价格预测.csv\")\n",
    "x = data.iloc[:, :-1]\n",
    "y = data.iloc[:, -1]\n",
    "\n",
    "# 1.2划分数据集\n",
    "x_train, x_test, y_train, y_test = train_test_split(x, y, test_size=0.2)\n",
    "\n",
    "x_train = torch.tensor(x_train.values,dtype = torch.float32)\n",
    "x_test = torch.tensor(x_test.values, dtype = torch.float32)\n",
    "y_train = torch.tensor(y_train.values, dtype = torch.int64)\n",
    "y_test = torch.tensor(y_test.values, dtype = torch.int64)\n",
    "\n",
    "# 1.3封装Tensor\n",
    "train_dataset = TensorDataset(x_train, y_train)\n",
    "test_dataset = TensorDataset(x_test, y_test)\n",
    "\n",
    "# 1.4构建数据迭代器\n",
    "train_dataloader = DataLoader(train_dataset, batch_size=8, shuffle= True)\n",
    "test_dataloader = DataLoader(test_dataset, batch_size=8, shuffle = False)\n",
    "\n",
    "# 2.构建模型\n",
    "# 2.1类\n",
    "class model(nn.Module):\n",
    "# 2.2 init方法\n",
    "    def __init__(self):\n",
    "        super().__init__()\n",
    "        self.layer1 = nn.Linear(in_features=20, out_features=64)\n",
    "        self.layer2 = nn.Linear(in_features=64, out_features=128)\n",
    "        self.layer3 = nn.Linear(in_features=128, out_features=4)\n",
    "        self.dropout = nn.Dropout(p = 0.9)\n",
    "\n",
    "    # forward方法\n",
    "    def forward(self, x):\n",
    "        x = self.layer1(x)\n",
    "        x = self.dropout(x)\n",
    "        x = torch.relu(x)\n",
    "        x = self.layer2(x)\n",
    "        x = self.dropout(x)\n",
    "        x = torch.relu(x)\n",
    "        out = self.layer3(x)\n",
    "        return out\n",
    "\n",
    "# 3.模型训练\n",
    "def train():\n",
    "    phone_model = model()\n",
    "    # 损失\n",
    "    cri = nn.CrossEntropyLoss()\n",
    "    # 优化器\n",
    "    optimizer = torch.optim.SGD(phone_model.parameters(), lr = 0.01)\n",
    "    # 遍历\n",
    "    epochs = 20\n",
    "    for epoch in range(epochs):\n",
    "        loss_sum = 0\n",
    "        sample = 0.1\n",
    "        for x, y in train_dataloader:\n",
    "            y_pre = phone_model(x)\n",
    "            loss = cri(y_pre, y)\n",
    "            optimizer.zero_grad()\n",
    "            loss.backward()\n",
    "            optimizer.step()\n",
    "            loss_sum += loss.item()\n",
    "            sample += 1\n",
    "        print(loss_sum / sample)  # 出现了nan，表示梯度爆炸\n",
    "    torch.save(phone_model.state_dict(), r'F:\\Maker\\Learn_Systematically\\6_Deep_learning\\2_neural_network\\phone.pth')\n",
    "# 4.模型预测\n",
    "def test():\n",
    "    my_model = model()\n",
    "    my_model.load_state_dict(torch.load(r'F:\\Maker\\Learn_Systematically\\6_Deep_learning\\2_neural_network\\phone.pth'))\n",
    "\n",
    "    correct = 0\n",
    "    for x, y in test_dataloader:\n",
    "        y_pre = my_model(x)\n",
    "        y_index = torch.argmax(y_pre, dim = 1)\n",
    "        correct += (y_index == y).sum()\n",
    "    acc = correct.item() / len(test_dataset)\n",
    "    print(\"准确率：\",acc)\n",
    "\n",
    "\n",
    "if __name__ == '__main__':\n",
    "    my_model = model()\n",
    "    summary(my_model, input_size=(20, ), batch_size=10)\n",
    "    train()\n",
    "    test()"
   ],
   "metadata": {
    "collapsed": false,
    "ExecuteTime": {
     "start_time": "2025-06-12T22:39:14.583192Z",
     "end_time": "2025-06-12T22:39:19.668742Z"
    }
   }
  },
  {
   "cell_type": "code",
   "execution_count": null,
   "outputs": [],
   "source": [
    "\n"
   ],
   "metadata": {
    "collapsed": false
   }
  }
 ],
 "metadata": {
  "kernelspec": {
   "display_name": "Python 3",
   "language": "python",
   "name": "python3"
  },
  "language_info": {
   "codemirror_mode": {
    "name": "ipython",
    "version": 2
   },
   "file_extension": ".py",
   "mimetype": "text/x-python",
   "name": "python",
   "nbconvert_exporter": "python",
   "pygments_lexer": "ipython2",
   "version": "2.7.6"
  }
 },
 "nbformat": 4,
 "nbformat_minor": 0
}
