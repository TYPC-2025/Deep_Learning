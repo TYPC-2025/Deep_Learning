{
 "cells": [
  {
   "cell_type": "markdown",
   "source": [
    "# 词嵌入"
   ],
   "metadata": {
    "collapsed": false
   }
  },
  {
   "cell_type": "code",
   "execution_count": 7,
   "outputs": [
    {
     "name": "stdout",
     "output_type": "stream",
     "text": [
      "['北京', '冬奥', '的', '进度条', '已经', '过半', '，', '不少', '外国', '运动员', '在', '完成', '自己', '的', '比赛', '后', '踏上', '归途']\n",
      "--------------------------------------------------\n",
      "['不少', '外国', '自己', '已经', '后', '，', '比赛', '完成', '冬奥', '踏上', '进度条', '的', '归途', '北京', '过半', '运动员', '在']\n",
      "--------------------------------------------------\n",
      "17\n",
      "tensor([-0.4581,  1.5002,  1.2783], grad_fn=<EmbeddingBackward0>)\n",
      "--------------------------------------------------\n",
      "不少\n",
      "tensor([0.7209, 1.1293, 0.7584], grad_fn=<EmbeddingBackward0>)\n",
      "外国\n",
      "tensor([1.5475, 1.2086, 0.8110], grad_fn=<EmbeddingBackward0>)\n",
      "自己\n",
      "tensor([ 0.6979, -0.8087,  1.6910], grad_fn=<EmbeddingBackward0>)\n",
      "已经\n",
      "tensor([1.0610, 1.4961, 1.6215], grad_fn=<EmbeddingBackward0>)\n",
      "后\n",
      "tensor([-0.4581,  1.5002,  1.2783], grad_fn=<EmbeddingBackward0>)\n",
      "，\n",
      "tensor([-2.3490, -0.5054, -3.0921], grad_fn=<EmbeddingBackward0>)\n",
      "比赛\n",
      "tensor([-0.4564,  0.0665,  0.0678], grad_fn=<EmbeddingBackward0>)\n",
      "完成\n",
      "tensor([-1.1348, -1.5468, -0.2375], grad_fn=<EmbeddingBackward0>)\n",
      "冬奥\n",
      "tensor([ 0.1746, -1.9123,  0.8983], grad_fn=<EmbeddingBackward0>)\n",
      "踏上\n",
      "tensor([-1.5740, -0.9333,  0.4335], grad_fn=<EmbeddingBackward0>)\n",
      "进度条\n",
      "tensor([-0.1733, -1.1404, -0.2214], grad_fn=<EmbeddingBackward0>)\n",
      "的\n",
      "tensor([-0.4851, -0.3237,  0.7825], grad_fn=<EmbeddingBackward0>)\n",
      "归途\n",
      "tensor([ 1.1380, -0.2533,  0.6637], grad_fn=<EmbeddingBackward0>)\n",
      "北京\n",
      "tensor([ 0.1301, -2.7610,  1.2993], grad_fn=<EmbeddingBackward0>)\n",
      "过半\n",
      "tensor([1.0242, 1.1206, 0.3690], grad_fn=<EmbeddingBackward0>)\n",
      "运动员\n",
      "tensor([-0.5471, -0.1605,  0.3245], grad_fn=<EmbeddingBackward0>)\n",
      "在\n",
      "tensor([ 0.8252, -0.5335, -3.0945], grad_fn=<EmbeddingBackward0>)\n"
     ]
    }
   ],
   "source": [
    "import jieba\n",
    "import torch\n",
    "import torch.nn as nn\n",
    "\n",
    "# 分词\n",
    "text = \"北京冬奥的进度条已经过半，不少外国运动员在完成自己的比赛后踏上归途\"\n",
    "words = jieba.lcut(text)\n",
    "print(words)\n",
    "\n",
    "print(\"-\"*50)\n",
    "# 去重\n",
    "un_words = list(set(words))\n",
    "print(un_words)\n",
    "print(\"-\"*50)\n",
    "num = len(un_words)\n",
    "print(num)\n",
    "\n",
    "# 调用embedding\n",
    "embeds = nn.Embedding(num_embeddings=num, embedding_dim=3)\n",
    "print(embeds(torch.tensor(4))) # 获取  '已经'  的词向量\n",
    "\n",
    "print(\"-\"*50)\n",
    "\n",
    "for i,word in enumerate(un_words):\n",
    "    print(word)\n",
    "    print(embeds(torch.tensor(i)))"
   ],
   "metadata": {
    "collapsed": false,
    "ExecuteTime": {
     "start_time": "2025-06-13T22:28:37.572014Z",
     "end_time": "2025-06-13T22:28:37.590816Z"
    }
   }
  },
  {
   "cell_type": "code",
   "execution_count": null,
   "outputs": [],
   "source": [],
   "metadata": {
    "collapsed": false
   }
  }
 ],
 "metadata": {
  "kernelspec": {
   "display_name": "Python 3",
   "language": "python",
   "name": "python3"
  },
  "language_info": {
   "codemirror_mode": {
    "name": "ipython",
    "version": 2
   },
   "file_extension": ".py",
   "mimetype": "text/x-python",
   "name": "python",
   "nbconvert_exporter": "python",
   "pygments_lexer": "ipython2",
   "version": "2.7.6"
  }
 },
 "nbformat": 4,
 "nbformat_minor": 0
}
