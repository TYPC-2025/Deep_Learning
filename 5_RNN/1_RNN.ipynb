{
 "cells": [
  {
   "cell_type": "markdown",
   "source": [
    "# RNN"
   ],
   "metadata": {
    "collapsed": false
   }
  },
  {
   "cell_type": "code",
   "execution_count": 1,
   "outputs": [
    {
     "name": "stdout",
     "output_type": "stream",
     "text": [
      "torch.Size([12, 24, 64])\n",
      "torch.Size([1, 24, 64])\n"
     ]
    }
   ],
   "source": [
    "import torch\n",
    "import torch.nn as nn\n",
    "\n",
    "rnn = nn.RNN(input_size = 128, hidden_size=64,num_layers=1)\n",
    "\n",
    "x = torch.randn(12, 24, 128) # (seq_len, batch, input_size)\n",
    "h = torch.zeros(1, 24, 64) # (num_layers, batch, hidden_size)\n",
    "\n",
    "y, hn = rnn(x, h)\n",
    "print(y.shape)\n",
    "print(hn.shape)"
   ],
   "metadata": {
    "collapsed": false,
    "ExecuteTime": {
     "start_time": "2025-06-14T19:18:31.919959Z",
     "end_time": "2025-06-14T19:18:36.390210Z"
    }
   }
  }
 ],
 "metadata": {
  "kernelspec": {
   "display_name": "Python 3",
   "language": "python",
   "name": "python3"
  },
  "language_info": {
   "codemirror_mode": {
    "name": "ipython",
    "version": 2
   },
   "file_extension": ".py",
   "mimetype": "text/x-python",
   "name": "python",
   "nbconvert_exporter": "python",
   "pygments_lexer": "ipython2",
   "version": "2.7.6"
  }
 },
 "nbformat": 4,
 "nbformat_minor": 0
}
