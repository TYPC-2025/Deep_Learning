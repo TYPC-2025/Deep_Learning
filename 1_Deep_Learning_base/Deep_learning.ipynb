{
 "cells": [
  {
   "cell_type": "markdown",
   "source": [
    "# 张量的创建"
   ],
   "metadata": {
    "collapsed": false
   }
  },
  {
   "cell_type": "markdown",
   "source": [
    "## （1）基本创建方式"
   ],
   "metadata": {
    "collapsed": false
   }
  },
  {
   "cell_type": "code",
   "execution_count": 3,
   "outputs": [
    {
     "name": "stdout",
     "output_type": "stream",
     "text": [
      "tensor(10)\n",
      "tensor([[-0.0473, -1.0526,  3.1675],\n",
      "        [-1.9171,  2.3614, -0.3417]], dtype=torch.float64)\n",
      "tensor([[10., 20., 30.],\n",
      "        [40., 50., 60.]])\n"
     ]
    }
   ],
   "source": [
    "\"\"\"torch.tensor()\"\"\"\n",
    "import torch\n",
    "import numpy as np\n",
    "\n",
    "# 创建张量标量\n",
    "data = torch.tensor(10)\n",
    "print(data)\n",
    "\n",
    "# numpy数组\n",
    "data = np.random.randn(2, 3)\n",
    "data = torch.tensor(data)\n",
    "print(data)\n",
    "\n",
    "# 列表\n",
    "data = [[10.,20.,30.],[40.,50.,60.]]\n",
    "data = torch.tensor(data)\n",
    "print(data)"
   ],
   "metadata": {
    "collapsed": false,
    "ExecuteTime": {
     "start_time": "2025-06-06T15:07:46.701097Z",
     "end_time": "2025-06-06T15:07:46.949420Z"
    }
   }
  },
  {
   "cell_type": "code",
   "execution_count": 4,
   "outputs": [
    {
     "name": "stdout",
     "output_type": "stream",
     "text": [
      "tensor([[1.3602e-05, 1.0470e-11, 1.7250e-07],\n",
      "        [1.0860e-05, 4.4150e-05, 4.0372e-08]])\n",
      "tensor([10.])\n",
      "tensor([10., 20.])\n"
     ]
    }
   ],
   "source": [
    "\"\"\"torch.Tensor()\"\"\"\n",
    "\n",
    "# 创建2行3列的张量\n",
    "data = torch.Tensor(2, 3)\n",
    "print(data)\n",
    "\n",
    "data = torch.Tensor([10])\n",
    "print(data)\n",
    "\n",
    "data = torch.Tensor([10, 20])\n",
    "print(data)"
   ],
   "metadata": {
    "collapsed": false,
    "ExecuteTime": {
     "start_time": "2025-06-06T15:07:46.726960Z",
     "end_time": "2025-06-06T15:07:46.953388Z"
    }
   }
  },
  {
   "cell_type": "markdown",
   "source": [
    "## (2)创建线性和随机张量"
   ],
   "metadata": {
    "collapsed": false
   }
  },
  {
   "cell_type": "code",
   "execution_count": 5,
   "outputs": [
    {
     "name": "stdout",
     "output_type": "stream",
     "text": [
      "tensor([0, 2, 4, 6, 8])\n",
      "tensor([0., 1., 2., 3., 4., 5., 6., 7., 8., 9.])\n"
     ]
    }
   ],
   "source": [
    "\"\"\"torch.arrange()      torch.lin space()\"\"\"\n",
    "data = torch.arange(0,10,2)\n",
    "print(data)\n",
    "\n",
    "data = torch.linspace(0,9,10)\n",
    "print(data)"
   ],
   "metadata": {
    "collapsed": false,
    "ExecuteTime": {
     "start_time": "2025-06-06T15:07:46.741258Z",
     "end_time": "2025-06-06T15:07:46.985810Z"
    }
   }
  },
  {
   "cell_type": "code",
   "execution_count": 6,
   "outputs": [
    {
     "name": "stdout",
     "output_type": "stream",
     "text": [
      "随机数种子： 18736806469100\n",
      "tensor([[ 0.6308,  0.3703,  0.7738],\n",
      "        [-0.4629, -0.3190,  1.8335]])\n",
      "随机数种子： 100\n"
     ]
    }
   ],
   "source": [
    "\"\"\"torch.randn()创建随机张量\"\"\"\n",
    "data = torch.randn(2, 3)\n",
    "\n",
    "# 查看随机数种子\n",
    "print('随机数种子：',torch.random.initial_seed())\n",
    "\n",
    "# 随机数种子设置\n",
    "torch.random.manual_seed(100)\n",
    "print(data)\n",
    "print('随机数种子：',torch.random.initial_seed())"
   ],
   "metadata": {
    "collapsed": false,
    "ExecuteTime": {
     "start_time": "2025-06-06T15:07:46.759476Z",
     "end_time": "2025-06-06T15:07:47.004768Z"
    }
   }
  },
  {
   "cell_type": "markdown",
   "source": [
    "## (3)创建0-1张量"
   ],
   "metadata": {
    "collapsed": false
   }
  },
  {
   "cell_type": "code",
   "execution_count": 7,
   "outputs": [
    {
     "data": {
      "text/plain": "tensor([[0., 0., 0., 0., 0.],\n        [0., 0., 0., 0., 0.],\n        [0., 0., 0., 0., 0.],\n        [0., 0., 0., 0., 0.]])"
     },
     "execution_count": 7,
     "metadata": {},
     "output_type": "execute_result"
    }
   ],
   "source": [
    "torch.zeros(4, 5)"
   ],
   "metadata": {
    "collapsed": false,
    "ExecuteTime": {
     "start_time": "2025-06-06T15:07:46.775245Z",
     "end_time": "2025-06-06T15:07:47.027507Z"
    }
   }
  },
  {
   "cell_type": "code",
   "execution_count": 8,
   "outputs": [
    {
     "data": {
      "text/plain": "tensor([[1., 1., 1., 1., 1.],\n        [1., 1., 1., 1., 1.],\n        [1., 1., 1., 1., 1.],\n        [1., 1., 1., 1., 1.]])"
     },
     "execution_count": 8,
     "metadata": {},
     "output_type": "execute_result"
    }
   ],
   "source": [
    "torch.ones(4, 5)"
   ],
   "metadata": {
    "collapsed": false,
    "ExecuteTime": {
     "start_time": "2025-06-06T15:07:46.802358Z",
     "end_time": "2025-06-06T15:07:47.029103Z"
    }
   }
  },
  {
   "cell_type": "code",
   "execution_count": 9,
   "outputs": [
    {
     "data": {
      "text/plain": "tensor([[0., 0., 0.],\n        [0., 0., 0.]])"
     },
     "execution_count": 9,
     "metadata": {},
     "output_type": "execute_result"
    }
   ],
   "source": [
    "data = torch.randn(2, 3)\n",
    "torch.zeros_like(data)"
   ],
   "metadata": {
    "collapsed": false,
    "ExecuteTime": {
     "start_time": "2025-06-06T15:07:46.816163Z",
     "end_time": "2025-06-06T15:07:47.029610Z"
    }
   }
  },
  {
   "cell_type": "code",
   "execution_count": 10,
   "outputs": [
    {
     "data": {
      "text/plain": "tensor([[10, 10, 10, 10, 10],\n        [10, 10, 10, 10, 10],\n        [10, 10, 10, 10, 10],\n        [10, 10, 10, 10, 10]])"
     },
     "execution_count": 10,
     "metadata": {},
     "output_type": "execute_result"
    }
   ],
   "source": [
    "torch.full([4, 5], 10)"
   ],
   "metadata": {
    "collapsed": false,
    "ExecuteTime": {
     "start_time": "2025-06-06T15:07:46.830957Z",
     "end_time": "2025-06-06T15:07:47.030118Z"
    }
   }
  },
  {
   "cell_type": "code",
   "execution_count": 11,
   "outputs": [
    {
     "data": {
      "text/plain": "tensor([[20., 20., 20.],\n        [20., 20., 20.]])"
     },
     "execution_count": 11,
     "metadata": {},
     "output_type": "execute_result"
    }
   ],
   "source": [
    "torch.full_like(data, 20)"
   ],
   "metadata": {
    "collapsed": false,
    "ExecuteTime": {
     "start_time": "2025-06-06T15:07:46.847981Z",
     "end_time": "2025-06-06T15:07:47.031120Z"
    }
   }
  },
  {
   "cell_type": "markdown",
   "source": [
    "# 张量的类型转换"
   ],
   "metadata": {
    "collapsed": false
   }
  },
  {
   "cell_type": "markdown",
   "source": [
    "## (1)张量元素的类型转换"
   ],
   "metadata": {
    "collapsed": false
   }
  },
  {
   "cell_type": "code",
   "execution_count": 12,
   "outputs": [
    {
     "name": "stdout",
     "output_type": "stream",
     "text": [
      "tensor([[ 0.6857,  0.7877, -0.9778,  2.1302, -1.7599],\n",
      "        [ 1.0230, -0.1107, -0.3899, -1.0300, -1.5446],\n",
      "        [ 0.5730, -2.0956, -0.1806,  0.2346, -0.1477],\n",
      "        [ 0.5893,  2.2533, -0.2555,  0.1651, -0.1629]])\n",
      "torch.float32\n",
      "torch.int32\n",
      "torch.int32\n"
     ]
    }
   ],
   "source": [
    "data = torch.randn(4, 5)\n",
    "print(data)\n",
    "print(data.dtype)\n",
    "print(data.type(torch.IntTensor).dtype)\n",
    "print(data.int().dtype)"
   ],
   "metadata": {
    "collapsed": false,
    "ExecuteTime": {
     "start_time": "2025-06-06T15:07:46.865264Z",
     "end_time": "2025-06-06T15:07:47.033630Z"
    }
   }
  },
  {
   "cell_type": "markdown",
   "source": [
    "## (2)张量转换成Numpy数组"
   ],
   "metadata": {
    "collapsed": false
   }
  },
  {
   "cell_type": "code",
   "execution_count": 13,
   "outputs": [
    {
     "name": "stdout",
     "output_type": "stream",
     "text": [
      "<class 'torch.Tensor'>\n",
      "<class 'numpy.ndarray'>\n",
      "[[100   7   1]\n",
      " [  4   8   9]]\n",
      "tensor([[100,   7,   1],\n",
      "        [  4,   8,   9]])\n"
     ]
    }
   ],
   "source": [
    "# 共享空间\n",
    "import torch\n",
    "import numpy as np\n",
    "\n",
    "torch.random.manual_seed(2)\n",
    "data_tensor = torch.randint(0, 10, [2, 3])\n",
    "print(type(data_tensor))\n",
    "\n",
    "data_numpy = data_tensor.numpy()\n",
    "print(type(data_numpy))\n",
    "\n",
    "data_numpy[0][0] = 100\n",
    "print(data_numpy)\n",
    "print(data_tensor)"
   ],
   "metadata": {
    "collapsed": false,
    "ExecuteTime": {
     "start_time": "2025-06-06T15:07:46.879816Z",
     "end_time": "2025-06-06T15:07:47.035304Z"
    }
   }
  },
  {
   "cell_type": "code",
   "execution_count": 14,
   "outputs": [
    {
     "name": "stdout",
     "output_type": "stream",
     "text": [
      "<class 'torch.Tensor'>\n",
      "<class 'numpy.ndarray'>\n",
      "tensor([[8, 7, 1],\n",
      "        [4, 8, 9]])\n",
      "[[100   7   1]\n",
      " [  4   8   9]]\n"
     ]
    }
   ],
   "source": [
    "# 使用copy函数避免空间共享\n",
    "\n",
    "import torch\n",
    "import numpy as np\n",
    "\n",
    "torch.manual_seed(2)\n",
    "data_tensor = torch.randint(0, 10, [2, 3])\n",
    "print(type(data_tensor))\n",
    "\n",
    "data_numpy = data_tensor.numpy().copy()\n",
    "print(type(data_numpy))\n",
    "\n",
    "data_numpy[0][0] = 100\n",
    "print(data_tensor)\n",
    "print(data_numpy)"
   ],
   "metadata": {
    "collapsed": false,
    "ExecuteTime": {
     "start_time": "2025-06-06T15:07:46.896409Z",
     "end_time": "2025-06-06T15:07:47.035304Z"
    }
   }
  },
  {
   "cell_type": "markdown",
   "source": [
    "## (3)Numpy数组转换为张量"
   ],
   "metadata": {
    "collapsed": false
   }
  },
  {
   "cell_type": "code",
   "execution_count": 15,
   "outputs": [
    {
     "name": "stdout",
     "output_type": "stream",
     "text": [
      "[10  2  3]\n",
      "tensor([10,  2,  3], dtype=torch.int32)\n"
     ]
    }
   ],
   "source": [
    "# 内存共享\n",
    "import torch\n",
    "import numpy as np\n",
    "\n",
    "data_numpy = np.array([1, 2, 3])\n",
    "data_tensor = torch.from_numpy(data_numpy)\n",
    "data_tensor[0] = 10\n",
    "print(data_numpy)\n",
    "print(data_tensor)"
   ],
   "metadata": {
    "collapsed": false,
    "ExecuteTime": {
     "start_time": "2025-06-06T15:07:46.910721Z",
     "end_time": "2025-06-06T15:07:47.036732Z"
    }
   }
  },
  {
   "cell_type": "code",
   "execution_count": 16,
   "outputs": [
    {
     "name": "stdout",
     "output_type": "stream",
     "text": [
      "[1 2 3]\n",
      "tensor([10,  2,  3], dtype=torch.int32)\n"
     ]
    }
   ],
   "source": [
    "# 避免内存共享\n",
    "import torch\n",
    "import numpy as np\n",
    "\n",
    "data_numpy = np.array([1, 2, 3])\n",
    "data_tensor = torch.from_numpy(data_numpy.copy())\n",
    "data_tensor[0] = 10\n",
    "print(data_numpy)\n",
    "print(data_tensor)"
   ],
   "metadata": {
    "collapsed": false,
    "ExecuteTime": {
     "start_time": "2025-06-06T15:07:46.930289Z",
     "end_time": "2025-06-06T15:07:47.036732Z"
    }
   }
  },
  {
   "cell_type": "code",
   "execution_count": 17,
   "outputs": [
    {
     "name": "stdout",
     "output_type": "stream",
     "text": [
      "[1 2 3]\n",
      "tensor([10.,  2.,  3.])\n"
     ]
    }
   ],
   "source": [
    "# 避免内存共享\n",
    "import torch\n",
    "import numpy as np\n",
    "\n",
    "data_numpy = np.array([1, 2, 3])\n",
    "data_tensor = torch.Tensor(data_numpy)\n",
    "data_tensor[0] = 10\n",
    "print(data_numpy)\n",
    "print(data_tensor)"
   ],
   "metadata": {
    "collapsed": false,
    "ExecuteTime": {
     "start_time": "2025-06-06T15:07:46.942797Z",
     "end_time": "2025-06-06T15:07:47.037748Z"
    }
   }
  },
  {
   "cell_type": "markdown",
   "source": [
    "## (4)标量张量和数字转换"
   ],
   "metadata": {
    "collapsed": false
   }
  },
  {
   "cell_type": "code",
   "execution_count": 18,
   "outputs": [
    {
     "name": "stdout",
     "output_type": "stream",
     "text": [
      "tensor(30)\n",
      "30\n"
     ]
    }
   ],
   "source": [
    "import torch\n",
    "\n",
    "data = torch.tensor(30)\n",
    "print(data)\n",
    "print(data.item())"
   ],
   "metadata": {
    "collapsed": false,
    "ExecuteTime": {
     "start_time": "2025-06-06T15:07:46.957404Z",
     "end_time": "2025-06-06T15:07:47.038840Z"
    }
   }
  },
  {
   "cell_type": "code",
   "execution_count": 19,
   "outputs": [
    {
     "name": "stdout",
     "output_type": "stream",
     "text": [
      "tensor([30])\n",
      "30\n"
     ]
    }
   ],
   "source": [
    "data1 = torch.tensor([30])\n",
    "print(data1)\n",
    "print(data1.item())"
   ],
   "metadata": {
    "collapsed": false,
    "ExecuteTime": {
     "start_time": "2025-06-06T15:07:46.973934Z",
     "end_time": "2025-06-06T15:07:47.436138Z"
    }
   }
  },
  {
   "cell_type": "markdown",
   "source": [
    "# 张量的运算"
   ],
   "metadata": {
    "collapsed": false
   }
  },
  {
   "cell_type": "markdown",
   "source": [
    "## (1)张量的基本运算"
   ],
   "metadata": {
    "collapsed": false
   }
  },
  {
   "cell_type": "code",
   "execution_count": 21,
   "outputs": [
    {
     "name": "stdout",
     "output_type": "stream",
     "text": [
      "tensor([[9, 6, 6],\n",
      "        [4, 2, 2]])\n",
      "tensor([[19, 16, 16],\n",
      "        [14, 12, 12]])\n",
      "tensor([[9, 6, 6],\n",
      "        [4, 2, 2]])\n"
     ]
    }
   ],
   "source": [
    "import torch\n",
    "\n",
    "torch.random.manual_seed(22)\n",
    "data = torch.randint(0, 10, [2, 3])\n",
    "print(data)\n",
    "\n",
    "print(data.add(10))\n",
    "print(data) # 原数据并没有发生改变"
   ],
   "metadata": {
    "collapsed": false,
    "ExecuteTime": {
     "start_time": "2025-06-06T15:10:54.667638Z",
     "end_time": "2025-06-06T15:10:54.700009Z"
    }
   }
  },
  {
   "cell_type": "code",
   "execution_count": 22,
   "outputs": [
    {
     "name": "stdout",
     "output_type": "stream",
     "text": [
      "tensor([[9, 6, 6],\n",
      "        [4, 2, 2]])\n",
      "tensor([[19, 16, 16],\n",
      "        [14, 12, 12]])\n",
      "tensor([[19, 16, 16],\n",
      "        [14, 12, 12]])\n"
     ]
    }
   ],
   "source": [
    "import torch\n",
    "\n",
    "torch.random.manual_seed(22)\n",
    "data = torch.randint(0, 10, [2, 3])\n",
    "print(data)\n",
    "\n",
    "print(data.add_(10))\n",
    "print(data) # 原数据会发生改变"
   ],
   "metadata": {
    "collapsed": false,
    "ExecuteTime": {
     "start_time": "2025-06-06T15:11:18.169395Z",
     "end_time": "2025-06-06T15:11:18.230953Z"
    }
   }
  },
  {
   "cell_type": "markdown",
   "source": [
    "## (2)点乘运算"
   ],
   "metadata": {
    "collapsed": false
   }
  },
  {
   "cell_type": "code",
   "execution_count": 24,
   "outputs": [
    {
     "name": "stdout",
     "output_type": "stream",
     "text": [
      "tensor([[9, 6, 6],\n",
      "        [4, 2, 2]])\n",
      "tensor([[1, 6, 6],\n",
      "        [7, 0, 2]])\n",
      "tensor([[ 9, 36, 36],\n",
      "        [28,  0,  4]])\n",
      "tensor([[ 9, 36, 36],\n",
      "        [28,  0,  4]])\n"
     ]
    }
   ],
   "source": [
    "import torch\n",
    "\n",
    "torch.random.manual_seed(22)\n",
    "data1 = torch.randint(0, 10, [2, 3])\n",
    "print(data1)\n",
    "\n",
    "torch.random.manual_seed(23)\n",
    "data2 = torch.randint(0, 10, [2, 3])\n",
    "print(data2)\n",
    "\n",
    "# 点乘\n",
    "print(torch.mul(data1, data2))\n",
    "\n",
    "print(data1 * data2)"
   ],
   "metadata": {
    "collapsed": false,
    "ExecuteTime": {
     "start_time": "2025-06-06T15:17:23.251410Z",
     "end_time": "2025-06-06T15:17:23.329769Z"
    }
   }
  },
  {
   "cell_type": "markdown",
   "source": [
    "## (3)矩阵乘法"
   ],
   "metadata": {
    "collapsed": false
   }
  },
  {
   "cell_type": "code",
   "execution_count": 25,
   "outputs": [
    {
     "name": "stdout",
     "output_type": "stream",
     "text": [
      "tensor([[9, 6, 6, 4],\n",
      "        [2, 2, 2, 1]])\n",
      "tensor([[1, 6, 6, 7, 0],\n",
      "        [2, 7, 1, 4, 7],\n",
      "        [5, 6, 3, 7, 8],\n",
      "        [7, 5, 2, 9, 8]])\n",
      "tensor([[ 79, 152,  86, 165, 122],\n",
      "        [ 23,  43,  22,  45,  38]])\n",
      "tensor([[ 79, 152,  86, 165, 122],\n",
      "        [ 23,  43,  22,  45,  38]])\n"
     ]
    }
   ],
   "source": [
    "import torch\n",
    "\n",
    "torch.random.manual_seed(22)\n",
    "data1 = torch.randint(0, 10, [2, 4])\n",
    "print(data1)\n",
    "\n",
    "torch.random.manual_seed(23)\n",
    "data2 = torch.randint(0, 10, [4, 5])\n",
    "print(data2)\n",
    "\n",
    "# 矩阵乘法\n",
    "print(data1 @ data2)\n",
    "\n",
    "print(torch.matmul(data1, data2))"
   ],
   "metadata": {
    "collapsed": false,
    "ExecuteTime": {
     "start_time": "2025-06-06T15:24:59.576081Z",
     "end_time": "2025-06-06T15:24:59.621851Z"
    }
   }
  },
  {
   "cell_type": "markdown",
   "source": [
    "# 常见运算函数"
   ],
   "metadata": {
    "collapsed": false
   }
  },
  {
   "cell_type": "code",
   "execution_count": null,
   "outputs": [],
   "source": [
    "import torch\n",
    "\n",
    "data = torch.randint(0, 10, [2, 3],dtype = torch.float64)\n",
    "print(data)\n",
    "\n",
    "\"\"\"计算均值（注意：tensor必须为Float或者Double类型）\"\"\"\n",
    "print(data.mean())\n",
    "print(data.mean(dim = 0)) # 按列计算均值\n",
    "print(data.mean(dim = 1)) # 按行进行计算\n",
    "\n",
    "\"\"\"计算总和\"\"\"\n",
    "print(data.sum())\n",
    "print(data.sum(dim = 0))\n",
    "print(data.sum(dim = 1))\n",
    "\n",
    "\"\"\"计算平方\"\"\"\n",
    "print(torch.pow(data, 2))\n",
    "\n",
    "\"\"\"计算平方根\"\"\"\n",
    "print(data.sqrt())\n",
    "\n",
    "\"\"\"指数计算\"\"\"\n",
    "print(data.exp())\n",
    "\n",
    "\"\"\"对数计算\"\"\"\n",
    "print(data.log())\n",
    "print(data.log2())\n",
    "print(data.log10())"
   ],
   "metadata": {
    "collapsed": false
   }
  },
  {
   "cell_type": "markdown",
   "source": [
    "# 张量索引操作"
   ],
   "metadata": {
    "collapsed": false
   }
  },
  {
   "cell_type": "code",
   "execution_count": 28,
   "outputs": [
    {
     "name": "stdout",
     "output_type": "stream",
     "text": [
      "tensor([[1, 6, 6, 7, 0],\n",
      "        [2, 7, 1, 4, 7],\n",
      "        [5, 6, 3, 7, 8],\n",
      "        [7, 5, 2, 9, 8]])\n",
      "tensor([7, 8])\n",
      "tensor([[1, 7],\n",
      "        [2, 8]])\n"
     ]
    }
   ],
   "source": [
    "import torch\n",
    "\n",
    "torch.random.manual_seed(23)\n",
    "data = torch.randint(0, 10, [4, 5])\n",
    "print(data)\n",
    "\n",
    "print(data[[1,3],[1,4]])\n",
    "\n",
    "print(data[[[1], [3]], [2, 4]])"
   ],
   "metadata": {
    "collapsed": false,
    "ExecuteTime": {
     "start_time": "2025-06-06T15:59:17.055822Z",
     "end_time": "2025-06-06T15:59:17.085144Z"
    }
   }
  },
  {
   "cell_type": "code",
   "execution_count": 30,
   "outputs": [
    {
     "name": "stdout",
     "output_type": "stream",
     "text": [
      "tensor([[1, 6, 6, 7, 0],\n",
      "        [2, 7, 1, 4, 7],\n",
      "        [5, 6, 3, 7, 8],\n",
      "        [7, 5, 2, 9, 8]])\n",
      "tensor([ True, False, False, False])\n",
      "tensor([[1, 6, 6, 7, 0]])\n"
     ]
    }
   ],
   "source": [
    "# 布尔索引\n",
    "import torch\n",
    "\n",
    "torch.random.manual_seed(23)\n",
    "data = torch.randint(0, 10, [4, 5])\n",
    "print(data)\n",
    "\n",
    "index = data[:, 2] > 5\n",
    "print(index)\n",
    "print(data[index])"
   ],
   "metadata": {
    "collapsed": false,
    "ExecuteTime": {
     "start_time": "2025-06-06T16:08:29.671110Z",
     "end_time": "2025-06-06T16:08:29.698165Z"
    }
   }
  },
  {
   "cell_type": "markdown",
   "source": [
    "# 张量形状操作"
   ],
   "metadata": {
    "collapsed": false
   }
  },
  {
   "cell_type": "markdown",
   "source": [
    "## (1)reshape函数"
   ],
   "metadata": {
    "collapsed": false
   }
  },
  {
   "cell_type": "code",
   "execution_count": 33,
   "outputs": [
    {
     "name": "stdout",
     "output_type": "stream",
     "text": [
      "torch.Size([3, 4, 5])\n",
      "torch.Size([3, 4, 5])\n",
      "5\n",
      "5\n",
      "torch.Size([2, 10, 3])\n"
     ]
    }
   ],
   "source": [
    "import torch\n",
    "\n",
    "torch.random.manual_seed(22)\n",
    "data = torch.randint(0, 10, [3, 4, 5])\n",
    "print(data.shape)\n",
    "print(data.size())\n",
    "print(data.shape[2])\n",
    "print(data.size(2))\n",
    "\n",
    "print(data.reshape(2, -1, 3).shape)"
   ],
   "metadata": {
    "collapsed": false,
    "ExecuteTime": {
     "start_time": "2025-06-06T17:33:13.973749Z",
     "end_time": "2025-06-06T17:33:13.991156Z"
    }
   }
  },
  {
   "cell_type": "markdown",
   "source": [
    "## (2)squeeze函数和unsqueeze函数"
   ],
   "metadata": {
    "collapsed": false
   }
  },
  {
   "cell_type": "code",
   "execution_count": 36,
   "outputs": [
    {
     "name": "stdout",
     "output_type": "stream",
     "text": [
      "torch.Size([3, 1, 4, 5, 1])\n",
      "torch.Size([3, 4, 5])\n"
     ]
    }
   ],
   "source": [
    "import torch\n",
    "\n",
    "torch.random.manual_seed(22)\n",
    "data = torch.randint(0, 10, [3, 4, 5])\n",
    "\n",
    "# 添加维度\n",
    "data1 = data.unsqueeze(dim = 1).unsqueeze(dim = -1)\n",
    "print(data1.shape)\n",
    "\n",
    "# 降低维度\n",
    "print(data1.squeeze().shape)"
   ],
   "metadata": {
    "collapsed": false,
    "ExecuteTime": {
     "start_time": "2025-06-06T17:46:54.156956Z",
     "end_time": "2025-06-06T17:46:54.183635Z"
    }
   }
  },
  {
   "cell_type": "markdown",
   "source": [
    "## (3)transpose函数和permute函数"
   ],
   "metadata": {
    "collapsed": false
   }
  },
  {
   "cell_type": "code",
   "execution_count": 46,
   "outputs": [
    {
     "name": "stdout",
     "output_type": "stream",
     "text": [
      "torch.Size([4, 2, 3, 5])\n",
      "torch.Size([3, 4, 5, 2])\n",
      "torch.Size([3, 4, 5, 2])\n",
      "torch.Size([3, 4, 5, 2])\n"
     ]
    }
   ],
   "source": [
    "import torch\n",
    "\n",
    "torch.random.manual_seed(22)\n",
    "data = torch.randint(0, 10, [4, 2, 3, 5])\n",
    "print(data.shape)\n",
    "\n",
    "# 转换成[3, 4, 5, 2]\n",
    "data1 = torch.transpose(data, 0, 2)\n",
    "data2 = torch.transpose(data1, 1, 2)\n",
    "data3 = torch.transpose(data2, 2, 3)\n",
    "print(data3.shape)\n",
    "\n",
    "data4 = torch.permute(data, [2, 0, 3, 1])\n",
    "print(data4.shape)\n",
    "\n",
    "print(data.permute([2, 0, 3, 1]).shape)"
   ],
   "metadata": {
    "collapsed": false,
    "ExecuteTime": {
     "start_time": "2025-06-06T17:59:46.865577Z",
     "end_time": "2025-06-06T17:59:46.901320Z"
    }
   }
  },
  {
   "cell_type": "markdown",
   "source": [
    "## (4)view()函数和contiguous()函数"
   ],
   "metadata": {
    "collapsed": false
   }
  },
  {
   "cell_type": "code",
   "execution_count": 53,
   "outputs": [
    {
     "name": "stdout",
     "output_type": "stream",
     "text": [
      "torch.Size([2, 3])\n",
      "True\n",
      "torch.Size([6])\n",
      "False\n",
      "torch.Size([6])\n"
     ]
    }
   ],
   "source": [
    "import torch\n",
    "\n",
    "torch.random.manual_seed(22)\n",
    "data = torch.randint(0, 10, [2, 3])\n",
    "print(data.shape)\n",
    "\n",
    "# 判断内存是否连续\n",
    "print(data.is_contiguous())\n",
    "\n",
    "print(data.view(-1).shape)\n",
    "\n",
    "data1 = torch.transpose(data, 0, 1)\n",
    "print(data1.is_contiguous()) # 内存不连续\n",
    "\n",
    "data2 = data1.contiguous()\n",
    "print(data2.view(-1).shape)\n",
    "\n",
    "if data.is_contiguous():\n",
    "    data.view(-1)\n",
    "else:\n",
    "    data.contiguous().view(-1)"
   ],
   "metadata": {
    "collapsed": false,
    "ExecuteTime": {
     "start_time": "2025-06-06T18:22:00.408980Z",
     "end_time": "2025-06-06T18:22:00.472457Z"
    }
   }
  },
  {
   "cell_type": "markdown",
   "source": [
    "# 张量拼接操作"
   ],
   "metadata": {
    "collapsed": false
   }
  },
  {
   "cell_type": "code",
   "execution_count": 57,
   "outputs": [
    {
     "name": "stdout",
     "output_type": "stream",
     "text": [
      "tensor([[[5, 1, 8],\n",
      "         [8, 9, 5]]])\n",
      "tensor([[[5, 2, 9],\n",
      "         [0, 5, 6]]])\n",
      "torch.Size([2, 2, 3])\n",
      "torch.Size([1, 4, 3])\n",
      "torch.Size([1, 2, 6])\n"
     ]
    }
   ],
   "source": [
    "import torch\n",
    "data1 = torch.randint(0, 10, [1, 2, 3])\n",
    "data2 = torch.randint(0, 10, [1, 2, 3])\n",
    "print(data1)\n",
    "print(data2)\n",
    "\n",
    "# 1.按0维度拼接\n",
    "new_data1 = torch.cat([data1, data2], dim = 0)\n",
    "# print(new_data1)\n",
    "print(new_data1.shape)\n",
    "\n",
    "# 2.按1维度拼接\n",
    "new_data2 = torch.cat([data1, data2], dim = 1)\n",
    "# print(new_data2)\n",
    "print(new_data2.shape)\n",
    "\n",
    "# 3.按2维度拼接\n",
    "new_data3 = torch.cat([data1, data2], dim = 2)\n",
    "# print(new_data3)\n",
    "print(new_data3.shape)"
   ],
   "metadata": {
    "collapsed": false,
    "ExecuteTime": {
     "start_time": "2025-06-06T18:33:41.164028Z",
     "end_time": "2025-06-06T18:33:41.187314Z"
    }
   }
  },
  {
   "cell_type": "markdown",
   "source": [
    "# 自动微分模块"
   ],
   "metadata": {
    "collapsed": false
   }
  },
  {
   "cell_type": "code",
   "execution_count": 1,
   "outputs": [
    {
     "name": "stdout",
     "output_type": "stream",
     "text": [
      "tensor(80.)\n",
      "tensor(16.)\n"
     ]
    }
   ],
   "source": [
    "\"\"\"w = w - L(w.grad)\"\"\"\n",
    "import torch\n",
    "\n",
    "# 数据  特征+目标\n",
    "x = torch.tensor(5)\n",
    "y = torch.tensor(0.)\n",
    "\n",
    "# 权重  偏置\n",
    "w = torch.tensor(1, requires_grad=True,dtype = torch.float32)\n",
    "b = torch.tensor(3, requires_grad=True, dtype = torch.float32)\n",
    "\n",
    "# 预测\n",
    "z = w*x + b\n",
    "\n",
    "# 损失\n",
    "loss = torch.nn.MSELoss()\n",
    "loss = loss(z, y)\n",
    "\n",
    "# 微分\n",
    "loss.backward()\n",
    "\n",
    "#梯度\n",
    "print(w.grad)\n",
    "print(b.grad)"
   ],
   "metadata": {
    "collapsed": false,
    "ExecuteTime": {
     "start_time": "2025-06-07T08:01:19.108439Z",
     "end_time": "2025-06-07T08:01:20.805571Z"
    }
   }
  },
  {
   "cell_type": "code",
   "execution_count": 5,
   "outputs": [
    {
     "name": "stdout",
     "output_type": "stream",
     "text": [
      "tensor([[0.2782, 1.4126, 0.4037],\n",
      "        [0.2782, 1.4126, 0.4037],\n",
      "        [0.2782, 1.4126, 0.4037],\n",
      "        [0.2782, 1.4126, 0.4037],\n",
      "        [0.2782, 1.4126, 0.4037]])\n",
      "tensor([0.2782, 1.4126, 0.4037])\n"
     ]
    }
   ],
   "source": [
    "import torch\n",
    "\n",
    "x = torch.ones(2, 5)\n",
    "y = torch.zeros(2, 3)\n",
    "\n",
    "w = torch.randn(5, 3, requires_grad=True)\n",
    "b = torch.randn(3, requires_grad=True)\n",
    "\n",
    "z = torch.matmul(x, w) + b\n",
    "\n",
    "loss = torch.nn.MSELoss()\n",
    "loss = loss(z, y)\n",
    "\n",
    "loss.backward()\n",
    "\n",
    "print(w.grad)\n",
    "print(b.grad)"
   ],
   "metadata": {
    "collapsed": false,
    "ExecuteTime": {
     "start_time": "2025-06-07T08:08:53.247221Z",
     "end_time": "2025-06-07T08:08:53.279179Z"
    }
   }
  },
  {
   "cell_type": "markdown",
   "source": [
    "# 线性回归案例"
   ],
   "metadata": {
    "collapsed": false
   }
  },
  {
   "cell_type": "code",
   "execution_count": 11,
   "outputs": [
    {
     "data": {
      "text/plain": "<Figure size 640x480 with 1 Axes>",
      "image/png": "[encoded data removed]"
     },
     "metadata": {},
     "output_type": "display_data"
    },
    {
     "data": {
      "text/plain": "<Figure size 640x480 with 1 Axes>",
      "image/png": "[encoded data removed]"
     },
     "metadata": {},
     "output_type": "display_data"
    },
    {
     "data": {
      "text/plain": "<Figure size 640x480 with 1 Axes>",
      "image/png": "[encoded data removed]"
     },
     "metadata": {},
     "output_type": "display_data"
    }
   ],
   "source": [
    "import numpy as np\n",
    "from sklearn.datasets import make_regression # 构造数据集\n",
    "import matplotlib.pyplot as plt\n",
    "import torch\n",
    "from torch.utils.data import TensorDataset, DataLoader # 构造适合torch的数据集\n",
    "\n",
    "# 构建数据集\n",
    "x, y, coef = make_regression(n_samples=100,\n",
    "                             n_features=1, # 特征维度\n",
    "                             noise = 10,\n",
    "                             coef = True, # 返回斜率\n",
    "                             bias = 1.5\n",
    "                             )\n",
    "plt.scatter(x, y)\n",
    "y_true = [coef*v+1.5 for v in x]\n",
    "plt.plot(x, y_true)\n",
    "plt.show()\n",
    "\n",
    "# 数据获取（将ndarray转化成tensor）\n",
    "x = torch.tensor(x)\n",
    "y = torch.tensor(y)\n",
    "  # 封装\n",
    "dataset = TensorDataset(x, y) # 构造适合torch数据集：100个数据\n",
    "dataloader = DataLoader(dataset = dataset, batch_size=2, shuffle = True) # 构建batch数据\n",
    "# dataloader = DataLoader(dataset = dataset, batch_size=8, shuffle = True, drop_last = True/False)\n",
    "\n",
    "# 构建模型\n",
    "model = torch.nn.Linear(in_features = 1, # 输入x的维度\n",
    "                        out_features=1 # 输出y的维度\n",
    "                        )\n",
    "\n",
    "# 模型训练\n",
    "# 损失(均方误差)\n",
    "cri = torch.nn.MSELoss()\n",
    "# cri = torch.nn.L1Loss()\n",
    "# cri = torch.nn.SmoothL1Loss()\n",
    "\n",
    "\n",
    "# 优化器\n",
    "optimizer = torch.optim.SGD(params=model.parameters(), lr = 0.001)\n",
    "# 遍历（epoch batch）\n",
    "loss_num = []\n",
    "for i in range(100):\n",
    "    sum = 0\n",
    "    sample = 0\n",
    "    for x_, y_ in dataloader:\n",
    "        # 模型预测\n",
    "        y_pre = model(x_.type(torch.float32))\n",
    "        # 损失计算\n",
    "        loss = cri(y_pre, y_.reshape(-1, 1).type(torch.float32))\n",
    "        sum += loss.item()\n",
    "        sample += len(y_)\n",
    "        # 梯度清零\n",
    "        optimizer.zero_grad()\n",
    "        # 自动微分\n",
    "        loss.backward()\n",
    "        # 更新参数\n",
    "        optimizer.step()\n",
    "\n",
    "    loss_num.append(sum/sample)\n",
    "\n",
    "# 绘制拟合曲线\n",
    "x = torch.linspace(x.min(), x.max(), 1000)\n",
    "y1 = torch.tensor([v * model.weight + model.bias for v in x])\n",
    "y2 = torch.tensor([v*coef + 1.5 for v in x])\n",
    "plt.plot(x, y1, label = 'train')\n",
    "plt.plot(x, y2, label = 'real')\n",
    "plt.grid()\n",
    "plt.legend()\n",
    "plt.show()\n",
    "\n",
    "# 绘制损失函数曲线\n",
    "plt.plot(range(100), loss_num)\n",
    "plt.grid()\n",
    "plt.show()\n"
   ],
   "metadata": {
    "collapsed": false,
    "ExecuteTime": {
     "start_time": "2025-06-07T09:02:02.824948Z",
     "end_time": "2025-06-07T09:02:06.391145Z"
    }
   }
  },
  {
   "cell_type": "code",
   "execution_count": null,
   "outputs": [],
   "source": [],
   "metadata": {
    "collapsed": false
   }
  }
 ],
 "metadata": {
  "kernelspec": {
   "display_name": "Python 3",
   "language": "python",
   "name": "python3"
  },
  "language_info": {
   "codemirror_mode": {
    "name": "ipython",
    "version": 2
   },
   "file_extension": ".py",
   "mimetype": "text/x-python",
   "name": "python",
   "nbconvert_exporter": "python",
   "pygments_lexer": "ipython2",
   "version": "2.7.6"
  }
 },
 "nbformat": 4,
 "nbformat_minor": 0
}
