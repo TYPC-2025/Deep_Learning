{
 "cells": [
  {
   "cell_type": "markdown",
   "source": [
    "# 卷积层API"
   ],
   "metadata": {
    "collapsed": false
   }
  },
  {
   "cell_type": "code",
   "execution_count": 1,
   "outputs": [
    {
     "name": "stdout",
     "output_type": "stream",
     "text": [
      "(5760, 2912, 3)\n",
      "torch.Size([1, 3, 5760, 2912])\n",
      "torch.Size([1, 5, 5758, 2910])\n"
     ]
    }
   ],
   "source": [
    "import torch\n",
    "import torch.nn as nn\n",
    "import matplotlib.pyplot as plt\n",
    "\n",
    "img = plt.imread(r\"F:\\Maker\\Learn_Systematically\\6_Deep_learning\\3_Convolutional_Neural_Networks_CNN\\Meeting_at_the_Peak.jpg\")\n",
    "print(img.shape) # [H, W, C]\n",
    "\n",
    "img = torch.tensor(img).permute(2, 0, 1)   # [H, W, C]--->[C, H, W]\n",
    "\n",
    "img = img.to(torch.float32).unsqueeze(0) # [C, H, W]--->[B, C, H, W]\n",
    "print(img.shape)\n",
    "\n",
    "layer = nn.Conv2d(in_channels=3, out_channels=5, kernel_size=(3, 3), stride = 1, padding=0)\n",
    "fm = layer(img)\n",
    "print(fm.shape)   # (W - Kernel_size + 2Padding) / Stride + 1"
   ],
   "metadata": {
    "collapsed": false,
    "ExecuteTime": {
     "start_time": "2025-06-13T16:03:00.565037Z",
     "end_time": "2025-06-13T16:03:04.495165Z"
    }
   }
  },
  {
   "cell_type": "markdown",
   "source": [
    "# 池化层API"
   ],
   "metadata": {
    "collapsed": false
   }
  },
  {
   "cell_type": "markdown",
   "source": [
    "## ①单通道"
   ],
   "metadata": {
    "collapsed": false
   }
  },
  {
   "cell_type": "code",
   "execution_count": 2,
   "outputs": [
    {
     "name": "stdout",
     "output_type": "stream",
     "text": [
      "torch.Size([1, 3, 3])\n",
      "tensor([[[4., 5.],\n",
      "         [7., 8.]]])\n",
      "tensor([[[2., 3.],\n",
      "         [5., 6.]]])\n"
     ]
    }
   ],
   "source": [
    "import torch\n",
    "import torch.nn as nn\n",
    "\n",
    "inputs = torch.tensor([[[0, 1, 2], [3, 4, 5], [6, 7, 8]]]).float()\n",
    "print(inputs.shape)\n",
    "\n",
    "pooling = nn.MaxPool2d(kernel_size=2, stride = 1, padding=0)\n",
    "print(pooling(inputs))\n",
    "\n",
    "pooling = nn.AvgPool2d(kernel_size=2, stride=1, padding=0)\n",
    "print(pooling(inputs))"
   ],
   "metadata": {
    "collapsed": false,
    "ExecuteTime": {
     "start_time": "2025-06-13T16:18:55.287787Z",
     "end_time": "2025-06-13T16:18:55.374574Z"
    }
   }
  },
  {
   "cell_type": "markdown",
   "source": [
    "## ②多通道"
   ],
   "metadata": {
    "collapsed": false
   }
  },
  {
   "cell_type": "code",
   "execution_count": 3,
   "outputs": [
    {
     "name": "stdout",
     "output_type": "stream",
     "text": [
      "torch.Size([3, 3, 3])\n",
      "tensor([[[ 4.,  5.],\n",
      "         [ 7.,  8.]],\n",
      "\n",
      "        [[50., 60.],\n",
      "         [80., 90.]],\n",
      "\n",
      "        [[55., 66.],\n",
      "         [88., 99.]]])\n",
      "tensor([[[ 2.,  3.],\n",
      "         [ 5.,  6.]],\n",
      "\n",
      "        [[30., 40.],\n",
      "         [60., 70.]],\n",
      "\n",
      "        [[33., 44.],\n",
      "         [66., 77.]]])\n"
     ]
    }
   ],
   "source": [
    "import torch\n",
    "import torch.nn as nn\n",
    "\n",
    "inputs = torch.tensor([[[0, 1, 2], [3, 4, 5], [6, 7, 8]],\n",
    "                       [[10, 20, 30], [40, 50, 60], [70, 80, 90]],\n",
    "                       [[11, 22, 33], [44, 55, 66], [77, 88, 99]]]).float()\n",
    "print(inputs.shape)\n",
    "\n",
    "pooling = nn.MaxPool2d(kernel_size=2, stride = 1, padding=0)\n",
    "print(pooling(inputs))\n",
    "\n",
    "pooling = nn.AvgPool2d(kernel_size=2, stride=1, padding=0)\n",
    "print(pooling(inputs))"
   ],
   "metadata": {
    "collapsed": false,
    "ExecuteTime": {
     "start_time": "2025-06-13T16:21:19.680548Z",
     "end_time": "2025-06-13T16:21:19.747186Z"
    }
   }
  },
  {
   "cell_type": "code",
   "execution_count": null,
   "outputs": [],
   "source": [],
   "metadata": {
    "collapsed": false
   }
  }
 ],
 "metadata": {
  "kernelspec": {
   "display_name": "Python 3",
   "language": "python",
   "name": "python3"
  },
  "language_info": {
   "codemirror_mode": {
    "name": "ipython",
    "version": 2
   },
   "file_extension": ".py",
   "mimetype": "text/x-python",
   "name": "python",
   "nbconvert_exporter": "python",
   "pygments_lexer": "ipython2",
   "version": "2.7.6"
  }
 },
 "nbformat": 4,
 "nbformat_minor": 0
}
